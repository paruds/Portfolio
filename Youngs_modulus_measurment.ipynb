{
 "cells": [
  {
   "cell_type": "code",
   "execution_count": 20,
   "id": "9312f62f",
   "metadata": {},
   "outputs": [],
   "source": [
    "import pandas as pd\n",
    "import numpy as np\n",
    "from sklearn.model_selection import train_test_split\n",
    "from sklearn.linear_model import LinearRegression\n",
    "import numpy as np"
   ]
  },
  {
   "cell_type": "code",
   "execution_count": 41,
   "id": "e17c0640",
   "metadata": {},
   "outputs": [],
   "source": [
    "def youngs_modulus(url,standard,strain_col,stress_col) : \n",
    "    ''' Get Young's Modulus from CSV data \n",
    "    \n",
    "    Keyword arguments :\n",
    "    url = source of data - str\n",
    "    \n",
    "    WARNING ! CSV file should have 2 columns, 1st is strain, 2nd is stress WARNING !\n",
    "    \n",
    "    standard -- value of boundary of elastic deformation - float\n",
    "    strain_col -- name of Strain column - str\n",
    "    stress_col -- name of Stres column - str '''\n",
    "    \n",
    "    df = pd.read_csv(url)\n",
    "    df_standard = df[df[strain_col] < standard]\n",
    "    \n",
    "    X = df_standard[strain_col].values.reshape(-1,1)f   s s \n",
    "    y = df_standard[stress_col].values.reshape(-1,1)\n",
    "    \n",
    "    X_train, X_test, y_train, y_test = train_test_split(X,y, test_size = 0.2, random_state = 0)\n",
    "    regressor = LinearRegression()\n",
    "    regressor.fit(X_train,y_train)\n",
    "    \n",
    "    return int(regressor.coef_)"
   ]
  },
  {
   "cell_type": "code",
   "execution_count": 35,
   "id": "ca1944a5",
   "metadata": {},
   "outputs": [],
   "source": [
    "def youngs_modulus_measurement(url_list,standard = 0.002,strain_col,stress_col) : \n",
    "    number_of_measurement = np.arange(1,len(url_list) + 1).tolist()\n",
    "    list_E = []\n",
    "    for item in url_list : \n",
    "        E = youngs_modulus(item,standard,strain_col,stress_col)\n",
    "        list_E.append(E)\n",
    "        \n",
    "    d = dict(zip(number_of_measurement,list_E))\n",
    "    \n",
    "    return d "
   ]
  },
  {
   "cell_type": "code",
   "execution_count": 3,
   "id": "185567a1",
   "metadata": {},
   "outputs": [],
   "source": [
    "url1 = 'https://raw.githubusercontent.com/paruds/Youngs_Modulus_for_plastic_materials/main/CSV/6061_1.csv'\n",
    "url2 = 'https://raw.githubusercontent.com/paruds/Youngs_Modulus_for_plastic_materials/main/CSV/6061_2.csv'\n",
    "url3 = 'https://raw.githubusercontent.com/paruds/Youngs_Modulus_for_plastic_materials/main/CSV/6021_3.csv'\n",
    "url4 = 'https://raw.githubusercontent.com/paruds/Youngs_Modulus_for_plastic_materials/main/CSV/6061_4.csv'\n",
    "url5 = 'https://raw.githubusercontent.com/paruds/Youngs_Modulus_for_plastic_materials/main/CSV/6021_5.csv'"
   ]
  },
  {
   "cell_type": "code",
   "execution_count": 4,
   "id": "aa3bdea3",
   "metadata": {},
   "outputs": [],
   "source": [
    "url_list = [url1,url2,url3,url4,url5]"
   ]
  },
  {
   "cell_type": "code",
   "execution_count": 39,
   "id": "2543bdab",
   "metadata": {},
   "outputs": [
    {
     "name": "stdout",
     "output_type": "stream",
     "text": [
      "{1: 79641, 2: 61338, 3: 76330, 4: 77272, 5: 76529}\n"
     ]
    }
   ],
   "source": [
    "results = youngs_modulus_measurement(url_list,0.002,'Strain','Stress_MPa')\n",
    "print(results)"
   ]
  },
  {
   "cell_type": "code",
   "execution_count": null,
   "id": "d7a04d7d",
   "metadata": {},
   "outputs": [],
   "source": []
  }
 ],
 "metadata": {
  "kernelspec": {
   "display_name": "Python 3 (ipykernel)",
   "language": "python",
   "name": "python3"
  },
  "language_info": {
   "codemirror_mode": {
    "name": "ipython",
    "version": 3
   },
   "file_extension": ".py",
   "mimetype": "text/x-python",
   "name": "python",
   "nbconvert_exporter": "python",
   "pygments_lexer": "ipython3",
   "version": "3.9.7"
  }
 },
 "nbformat": 4,
 "nbformat_minor": 5
}
