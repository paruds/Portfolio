{
 "cells": [
  {
   "cell_type": "markdown",
   "id": "fba8fd9e",
   "metadata": {},
   "source": [
    "# 1. Description of problem "
   ]
  },
  {
   "cell_type": "markdown",
   "id": "b155d415",
   "metadata": {},
   "source": [
    "Young's Modulus is one of the basis material parameter. It describes the behavior of material under load in a range of applying Hook's law. The most common classification of materials determines plastic and elastic materials. In this notebook, I will focus on plastic materials, which are harder to analyze because of not fixed yield strength. "
   ]
  },
  {
   "cell_type": "markdown",
   "id": "172f375f",
   "metadata": {},
   "source": [
    "# 2. Importing libraries "
   ]
  },
  {
   "cell_type": "code",
   "execution_count": 53,
   "id": "9ff65935",
   "metadata": {},
   "outputs": [],
   "source": [
    "import pandas as pd\n",
    "import numpy as np\n",
    "import matplotlib.pyplot as plt\n",
    "import matplotlib as mpl\n",
    "from sklearn.model_selection import train_test_split\n",
    "from sklearn.linear_model import LinearRegression\n",
    "from sklearn import metrics"
   ]
  },
  {
   "cell_type": "markdown",
   "id": "15e910b2",
   "metadata": {},
   "source": [
    "# 3. Loading data"
   ]
  },
  {
   "cell_type": "markdown",
   "id": "db7693b0",
   "metadata": {},
   "source": [
    "Tabular data of relation between stress(force) and displacment (elongation) can be gathered from a machine that perform static elongation of material sample. "
   ]
  },
  {
   "cell_type": "code",
   "execution_count": 2,
   "id": "04d28318",
   "metadata": {},
   "outputs": [],
   "source": [
    "# Sample CSV file from GitHub repository :\n",
    "\n",
    "url = 'https://raw.githubusercontent.com/paruds/Youngs_Modulus_for_plastic_materials/main/CSV/6061_1.csv'"
   ]
  },
  {
   "cell_type": "code",
   "execution_count": 5,
   "id": "f5cba5ac",
   "metadata": {},
   "outputs": [],
   "source": [
    "dataset = pd.read_csv(url)"
   ]
  },
  {
   "cell_type": "code",
   "execution_count": 6,
   "id": "93642102",
   "metadata": {},
   "outputs": [
    {
     "data": {
      "text/html": [
       "<div>\n",
       "<style scoped>\n",
       "    .dataframe tbody tr th:only-of-type {\n",
       "        vertical-align: middle;\n",
       "    }\n",
       "\n",
       "    .dataframe tbody tr th {\n",
       "        vertical-align: top;\n",
       "    }\n",
       "\n",
       "    .dataframe thead th {\n",
       "        text-align: right;\n",
       "    }\n",
       "</style>\n",
       "<table border=\"1\" class=\"dataframe\">\n",
       "  <thead>\n",
       "    <tr style=\"text-align: right;\">\n",
       "      <th></th>\n",
       "      <th>Strain</th>\n",
       "      <th>Stress_MPa</th>\n",
       "    </tr>\n",
       "  </thead>\n",
       "  <tbody>\n",
       "    <tr>\n",
       "      <th>0</th>\n",
       "      <td>-0.000217</td>\n",
       "      <td>0.399656</td>\n",
       "    </tr>\n",
       "    <tr>\n",
       "      <th>1</th>\n",
       "      <td>-0.000216</td>\n",
       "      <td>0.405594</td>\n",
       "    </tr>\n",
       "    <tr>\n",
       "      <th>2</th>\n",
       "      <td>-0.000220</td>\n",
       "      <td>0.411623</td>\n",
       "    </tr>\n",
       "    <tr>\n",
       "      <th>3</th>\n",
       "      <td>-0.000217</td>\n",
       "      <td>0.416826</td>\n",
       "    </tr>\n",
       "    <tr>\n",
       "      <th>4</th>\n",
       "      <td>-0.000223</td>\n",
       "      <td>0.421931</td>\n",
       "    </tr>\n",
       "  </tbody>\n",
       "</table>\n",
       "</div>"
      ],
      "text/plain": [
       "     Strain  Stress_MPa\n",
       "0 -0.000217    0.399656\n",
       "1 -0.000216    0.405594\n",
       "2 -0.000220    0.411623\n",
       "3 -0.000217    0.416826\n",
       "4 -0.000223    0.421931"
      ]
     },
     "execution_count": 6,
     "metadata": {},
     "output_type": "execute_result"
    }
   ],
   "source": [
    "# Printing dataset head to take look on data loaded in\n",
    "\n",
    "dataset.head()"
   ]
  },
  {
   "cell_type": "code",
   "execution_count": 8,
   "id": "005f6fdf",
   "metadata": {},
   "outputs": [
    {
     "name": "stdout",
     "output_type": "stream",
     "text": [
      "<class 'pandas.core.frame.DataFrame'>\n",
      "RangeIndex: 955 entries, 0 to 954\n",
      "Data columns (total 2 columns):\n",
      " #   Column      Non-Null Count  Dtype  \n",
      "---  ------      --------------  -----  \n",
      " 0   Strain      955 non-null    float64\n",
      " 1   Stress_MPa  955 non-null    float64\n",
      "dtypes: float64(2)\n",
      "memory usage: 15.0 KB\n"
     ]
    }
   ],
   "source": [
    "# Printing dataset info to see datatypes of values\n",
    "\n",
    "dataset.info()"
   ]
  },
  {
   "cell_type": "code",
   "execution_count": 10,
   "id": "8e744038",
   "metadata": {},
   "outputs": [
    {
     "data": {
      "text/plain": [
       "[<matplotlib.lines.Line2D at 0x1c851201b80>]"
      ]
     },
     "execution_count": 10,
     "metadata": {},
     "output_type": "execute_result"
    },
    {
     "data": {
      "image/png": "[encoded data removed]",
      "text/plain": [
       "<Figure size 432x288 with 1 Axes>"
      ]
     },
     "metadata": {
      "needs_background": "light"
     },
     "output_type": "display_data"
    }
   ],
   "source": [
    "# Taking a first look at data :\n",
    "\n",
    "plt.plot(dataset['Strain'],dataset['Stress_MPa'])"
   ]
  },
  {
   "cell_type": "markdown",
   "id": "17c94ea8",
   "metadata": {},
   "source": [
    "# 4. Prepering data "
   ]
  },
  {
   "cell_type": "markdown",
   "id": "5c30eda8",
   "metadata": {},
   "source": [
    "Material standard says, that plastic material starts to loose its elastic properties when elongation is reaching 0.2%. So lets divide dataset, that it only contain elastic area."
   ]
  },
  {
   "cell_type": "code",
   "execution_count": 22,
   "id": "fddd4a28",
   "metadata": {},
   "outputs": [
    {
     "data": {
      "text/html": [
       "<div>\n",
       "<style scoped>\n",
       "    .dataframe tbody tr th:only-of-type {\n",
       "        vertical-align: middle;\n",
       "    }\n",
       "\n",
       "    .dataframe tbody tr th {\n",
       "        vertical-align: top;\n",
       "    }\n",
       "\n",
       "    .dataframe thead th {\n",
       "        text-align: right;\n",
       "    }\n",
       "</style>\n",
       "<table border=\"1\" class=\"dataframe\">\n",
       "  <thead>\n",
       "    <tr style=\"text-align: right;\">\n",
       "      <th></th>\n",
       "      <th>Strain</th>\n",
       "      <th>Stress_MPa</th>\n",
       "    </tr>\n",
       "  </thead>\n",
       "  <tbody>\n",
       "    <tr>\n",
       "      <th>0</th>\n",
       "      <td>-0.000217</td>\n",
       "      <td>0.399656</td>\n",
       "    </tr>\n",
       "    <tr>\n",
       "      <th>1</th>\n",
       "      <td>-0.000216</td>\n",
       "      <td>0.405594</td>\n",
       "    </tr>\n",
       "    <tr>\n",
       "      <th>2</th>\n",
       "      <td>-0.000220</td>\n",
       "      <td>0.411623</td>\n",
       "    </tr>\n",
       "    <tr>\n",
       "      <th>3</th>\n",
       "      <td>-0.000217</td>\n",
       "      <td>0.416826</td>\n",
       "    </tr>\n",
       "    <tr>\n",
       "      <th>4</th>\n",
       "      <td>-0.000223</td>\n",
       "      <td>0.421931</td>\n",
       "    </tr>\n",
       "    <tr>\n",
       "      <th>...</th>\n",
       "      <td>...</td>\n",
       "      <td>...</td>\n",
       "    </tr>\n",
       "    <tr>\n",
       "      <th>348</th>\n",
       "      <td>0.001901</td>\n",
       "      <td>168.943555</td>\n",
       "    </tr>\n",
       "    <tr>\n",
       "      <th>349</th>\n",
       "      <td>0.001921</td>\n",
       "      <td>169.803597</td>\n",
       "    </tr>\n",
       "    <tr>\n",
       "      <th>350</th>\n",
       "      <td>0.001943</td>\n",
       "      <td>170.661495</td>\n",
       "    </tr>\n",
       "    <tr>\n",
       "      <th>351</th>\n",
       "      <td>0.001968</td>\n",
       "      <td>171.516565</td>\n",
       "    </tr>\n",
       "    <tr>\n",
       "      <th>352</th>\n",
       "      <td>0.001997</td>\n",
       "      <td>172.369464</td>\n",
       "    </tr>\n",
       "  </tbody>\n",
       "</table>\n",
       "<p>353 rows × 2 columns</p>\n",
       "</div>"
      ],
      "text/plain": [
       "       Strain  Stress_MPa\n",
       "0   -0.000217    0.399656\n",
       "1   -0.000216    0.405594\n",
       "2   -0.000220    0.411623\n",
       "3   -0.000217    0.416826\n",
       "4   -0.000223    0.421931\n",
       "..        ...         ...\n",
       "348  0.001901  168.943555\n",
       "349  0.001921  169.803597\n",
       "350  0.001943  170.661495\n",
       "351  0.001968  171.516565\n",
       "352  0.001997  172.369464\n",
       "\n",
       "[353 rows x 2 columns]"
      ]
     },
     "execution_count": 22,
     "metadata": {},
     "output_type": "execute_result"
    }
   ],
   "source": [
    "# Setting standard variable and making dataframe for linear regression\n",
    "\n",
    "standard = 0.002\n",
    "\n",
    "dataset_standard = dataset[dataset['Strain'] < standard]\n",
    "dataset_standard"
   ]
  },
  {
   "cell_type": "code",
   "execution_count": 27,
   "id": "dbe7d4be",
   "metadata": {},
   "outputs": [],
   "source": [
    "# making X and y sets \n",
    "\n",
    "X = dataset_standard['Strain'].values.reshape(-1,1)\n",
    "y = dataset_standard['Stress_MPa'].values.reshape(-1,1)"
   ]
  },
  {
   "cell_type": "code",
   "execution_count": 28,
   "id": "274fa723",
   "metadata": {},
   "outputs": [
    {
     "data": {
      "text/plain": [
       "<function matplotlib.pyplot.show(close=None, block=None)>"
      ]
     },
     "execution_count": 28,
     "metadata": {},
     "output_type": "execute_result"
    },
    {
     "data": {
      "image/png": "[encoded data removed]",
      "text/plain": [
       "<Figure size 432x288 with 1 Axes>"
      ]
     },
     "metadata": {
      "needs_background": "light"
     },
     "output_type": "display_data"
    }
   ],
   "source": [
    "# Plotting X and y\n",
    "\n",
    "plt.plot(X,y)\n",
    "plt.show"
   ]
  },
  {
   "cell_type": "markdown",
   "id": "418712ba",
   "metadata": {},
   "source": [
    "# 5. Linear Regression"
   ]
  },
  {
   "cell_type": "code",
   "execution_count": 37,
   "id": "2b4df55b",
   "metadata": {},
   "outputs": [],
   "source": [
    "# Setting up train_test_split to perform Linear Regression \n",
    "\n",
    "X_train, X_test, y_train, y_test = train_test_split(X,y, test_size = 0.2, random_state = 0)"
   ]
  },
  {
   "cell_type": "code",
   "execution_count": 39,
   "id": "c04b9357",
   "metadata": {},
   "outputs": [
    {
     "name": "stdout",
     "output_type": "stream",
     "text": [
      "[27.24049355]\n",
      "[[79641.02028701]]\n"
     ]
    }
   ],
   "source": [
    "# making regression object, then printing its methods intercept and coef which describes params of linear function y = ax+b\n",
    "\n",
    "regressor = LinearRegression()\n",
    "regressor.fit(X_train,y_train)\n",
    "\n",
    "print(regressor.intercept_)\n",
    "print(regressor.coef_)"
   ]
  },
  {
   "cell_type": "code",
   "execution_count": 32,
   "id": "d7277707",
   "metadata": {},
   "outputs": [],
   "source": [
    "# Making prediction on test set\n",
    "\n",
    "y_pred = regressor.predict(X_test)"
   ]
  },
  {
   "cell_type": "code",
   "execution_count": 41,
   "id": "6a03df76",
   "metadata": {},
   "outputs": [
    {
     "data": {
      "text/plain": [
       "<matplotlib.legend.Legend at 0x1c851e97b50>"
      ]
     },
     "execution_count": 41,
     "metadata": {},
     "output_type": "execute_result"
    },
    {
     "data": {
      "image/png": "[encoded data removed]",
      "text/plain": [
       "<Figure size 432x288 with 1 Axes>"
      ]
     },
     "metadata": {
      "needs_background": "light"
     },
     "output_type": "display_data"
    }
   ],
   "source": [
    "# Plotting training data and regresion \n",
    "\n",
    "fig, ax = plt.subplots()\n",
    "\n",
    "ax.plot(X, y, label = 'Training data', linestyle = '--')\n",
    "ax.plot(X_test,y_pred, label = \"Regression\")\n",
    "ax.legend()"
   ]
  },
  {
   "cell_type": "code",
   "execution_count": 54,
   "id": "fcff2a14",
   "metadata": {},
   "outputs": [
    {
     "name": "stdout",
     "output_type": "stream",
     "text": [
      "Mean Absolute Error :  6.9660133020245905\n",
      "Mean Squared Error :  59.36680505103603\n",
      "Root Mean Squared Error :  7.704985726854789\n"
     ]
    }
   ],
   "source": [
    "# Checking model quality \n",
    "\n",
    "print('Mean Absolute Error : ', metrics.mean_absolute_error(y_test, y_pred))\n",
    "print('Mean Squared Error : ', metrics.mean_squared_error(y_test, y_pred))\n",
    "print('Root Mean Squared Error : ', np.sqrt(metrics.mean_squared_error(y_test, y_pred)))"
   ]
  },
  {
   "cell_type": "code",
   "execution_count": 36,
   "id": "276e1d0b",
   "metadata": {},
   "outputs": [
    {
     "data": {
      "text/plain": [
       "<matplotlib.legend.Legend at 0x1c851dc4d00>"
      ]
     },
     "execution_count": 36,
     "metadata": {},
     "output_type": "execute_result"
    },
    {
     "data": {
      "image/png": "[encoded data removed]",
      "text/plain": [
       "<Figure size 432x288 with 1 Axes>"
      ]
     },
     "metadata": {
      "needs_background": "light"
     },
     "output_type": "display_data"
    }
   ],
   "source": [
    "# Plotting full data, training data and regression \n",
    "\n",
    "fig, ax = plt.subplots()\n",
    "ax.plot(strain, stress, label = 'Full data')\n",
    "ax.plot(X, y, label = 'Training data', linestyle = '--')\n",
    "ax.plot(X_test,y_pred, label = \"Regression\")\n",
    "\n",
    "ax.set_xlabel('Strain [-]')\n",
    "ax.set_ylabel('Stress [MPa]')\n",
    "ax.legend()"
   ]
  }
 ],
 "metadata": {
  "kernelspec": {
   "display_name": "Python 3 (ipykernel)",
   "language": "python",
   "name": "python3"
  },
  "language_info": {
   "codemirror_mode": {
    "name": "ipython",
    "version": 3
   },
   "file_extension": ".py",
   "mimetype": "text/x-python",
   "name": "python",
   "nbconvert_exporter": "python",
   "pygments_lexer": "ipython3",
   "version": "3.9.7"
  }
 },
 "nbformat": 4,
 "nbformat_minor": 5
}
